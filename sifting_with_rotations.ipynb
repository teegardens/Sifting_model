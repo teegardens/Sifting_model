{
 "cells": [
  {
   "cell_type": "code",
   "execution_count": 1,
   "metadata": {},
   "outputs": [],
   "source": [
    "import numpy as np\n",
    "from numpy import sin, cos\n",
    "import matplotlib.pyplot as plt\n",
    "\n",
    "np.set_printoptions(precision=4, edgeitems=10, linewidth=180, suppress=True)"
   ]
  },
  {
   "attachments": {},
   "cell_type": "markdown",
   "metadata": {},
   "source": [
    "Константы"
   ]
  },
  {
   "cell_type": "code",
   "execution_count": 2,
   "metadata": {},
   "outputs": [],
   "source": [
    "D = 10  # Размер  сита\n",
    "m = 100  # Число ячеек\n",
    "a = D / m  # Ширина ячейки\n",
    "b, k = 0.1, 0.1  # Наибольший размер частицы, соотношение сторон"
   ]
  },
  {
   "attachments": {},
   "cell_type": "markdown",
   "metadata": {},
   "source": [
    "Нахождение соcтояния частицы после \"встряхивания\""
   ]
  },
  {
   "cell_type": "code",
   "execution_count": 3,
   "metadata": {},
   "outputs": [],
   "source": [
    "def initialize_state(b=b, k=k, D=D):\n",
    "    # Начальные координаты\n",
    "    X0 = np.resize(\n",
    "        np.append(np.random.uniform(0, D - b, size=2), 0),\n",
    "        (3, 1))\n",
    "\n",
    "    # Положение до вращения в относительной системе кооординат\n",
    "    N0 = np.array([[ 0 ,  0 ,  0 ,  b , b,  b ],\n",
    "                   [ 0 , k*b, k*b,  0 , 0, k*b],\n",
    "                   [k*b, k*b,  0 , k*b, 0,  0 ]])\n",
    "\n",
    "    # Углы поворота\n",
    "    alpha, beta = np.random.uniform(0, np.pi/2, size=2)\n",
    "\n",
    "    # Матрица поворота\n",
    "    rotation_matrix = np.array([[        cos(beta)      ,      0    ,         sin(beta)      ],\n",
    "                                [ sin(alpha) * sin(beta), cos(alpha), -sin(alpha) * cos(beta)], \n",
    "                                [-cos(alpha) * sin(beta), sin(alpha),  cos(alpha) * cos(beta)]])\n",
    "    \n",
    "    # Относительные координаты после вращения\n",
    "    N1 = rotation_matrix @ N0\n",
    "\n",
    "    # Положение вершин после вращения\n",
    "    X1 = X0 + N1\n",
    "    return X1"
   ]
  },
  {
   "cell_type": "code",
   "execution_count": 4,
   "metadata": {},
   "outputs": [
    {
     "name": "stdout",
     "output_type": "stream",
     "text": [
      "[[84 28]\n",
      " [62 99]\n",
      " [27 99]\n",
      " [30 85]\n",
      " [10 96]\n",
      " [33 14]]\n"
     ]
    },
    {
     "data": {
      "text/plain": [
       "array([1, 1, 1, 1, 1, 1], dtype=int64)"
      ]
     },
     "execution_count": 4,
     "metadata": {},
     "output_type": "execute_result"
    }
   ],
   "source": [
    "A = np.random.uniform(0, 10, size=(3, 6))\n",
    "B = np.dstack((A[:2] // a).astype(int)).reshape(6, 2)\n",
    "#print(A)\n",
    "print(B)\n",
    "unq, cnt = np.unique(B, axis=0, return_counts=True)\n",
    "cnt"
   ]
  },
  {
   "cell_type": "code",
   "execution_count": 5,
   "metadata": {},
   "outputs": [],
   "source": [
    "#Переименовать, напр. is_passing; здесь же определять, проходит ли частица сквозь сито\n",
    "def count_intersections(state, a=a):\n",
    "    # Нахождение номеров ячеек, куда проецируются 6 вершин\n",
    "    cells_numbers = np.dstack((state[:2] // a).astype(int)).reshape(6, 2)\n",
    "\n",
    "    # Список задействованных ячеек и число входящих в них вершин\n",
    "    unique_cells, entries_count = np.unique(cells_numbers, axis=0, return_counts=True)\n",
    "    \n",
    "    # Максимальное количество точек, попавших в одну и ту же ячейку\n",
    "    max_entries = entries_count.max()\n",
    "\n",
    "    ''''''\n",
    "    if max_entries >= 5:\n",
    "        pass\n",
    "        #return True\n",
    "    \n",
    "    if max_entries == 4:\n",
    "        pass\n",
    "        #return len(unique_cells) == 2\n",
    "    \n",
    "    if max_entries == 3:\n",
    "        if len(unique_cells) == 2:\n",
    "            return True\n",
    "        \n",
    "\n",
    "\n",
    "    return max_entries"
   ]
  },
  {
   "cell_type": "code",
   "execution_count": 6,
   "metadata": {},
   "outputs": [
    {
     "data": {
      "text/plain": [
       "3"
      ]
     },
     "execution_count": 6,
     "metadata": {},
     "output_type": "execute_result"
    }
   ],
   "source": [
    "S = initialize_state()\n",
    "count_intersections(S)"
   ]
  },
  {
   "cell_type": "code",
   "execution_count": 7,
   "metadata": {},
   "outputs": [
    {
     "data": {
      "text/plain": [
       "(array([2, 3, 4, 5, 6], dtype=int64),\n",
       " array([ 14, 804,  25,  64,  93], dtype=int64))"
      ]
     },
     "execution_count": 7,
     "metadata": {},
     "output_type": "execute_result"
    },
    {
     "data": {
      "image/png": "[encoded data removed]",
      "text/plain": [
       "<Figure size 640x480 with 1 Axes>"
      ]
     },
     "metadata": {},
     "output_type": "display_data"
    }
   ],
   "source": [
    "l = []\n",
    "for _ in range(1000):\n",
    "    S = initialize_state()\n",
    "    l.append(count_intersections(S))\n",
    "\n",
    "plt.plot(sorted(l))\n",
    "np.unique(l, return_counts=True)"
   ]
  },
  {
   "cell_type": "code",
   "execution_count": null,
   "metadata": {},
   "outputs": [],
   "source": []
  }
 ],
 "metadata": {
  "kernelspec": {
   "display_name": "Python 3",
   "language": "python",
   "name": "python3"
  },
  "language_info": {
   "codemirror_mode": {
    "name": "ipython",
    "version": 3
   },
   "file_extension": ".py",
   "mimetype": "text/x-python",
   "name": "python",
   "nbconvert_exporter": "python",
   "pygments_lexer": "ipython3",
   "version": "3.10.9 (tags/v3.10.9:1dd9be6, Dec  6 2022, 20:01:21) [MSC v.1934 64 bit (AMD64)]"
  },
  "orig_nbformat": 4,
  "vscode": {
   "interpreter": {
    "hash": "2c80d0925e06f9467e0ebd6ffe1d0dfb4441b3e07eb12a7e8251177c48d6409f"
   }
  }
 },
 "nbformat": 4,
 "nbformat_minor": 2
}
